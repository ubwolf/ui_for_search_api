{
 "cells": [
  {
   "cell_type": "code",
   "execution_count": 1,
   "metadata": {},
   "outputs": [
    {
     "name": "stdout",
     "output_type": "stream",
     "text": [
      "{\n",
      "  \"name\" : \"b52d89a397f3\",\n",
      "  \"cluster_name\" : \"docker-cluster\",\n",
      "  \"cluster_uuid\" : \"BXOEw3B2RvqDXI3j7fObwQ\",\n",
      "  \"version\" : {\n",
      "    \"number\" : \"8.3.1\",\n",
      "    \"build_type\" : \"docker\",\n",
      "    \"build_hash\" : \"b9a6b2867996ba92ceac66cb5bafc6db25e7910e\",\n",
      "    \"build_date\" : \"2022-06-29T18:39:55.731992798Z\",\n",
      "    \"build_snapshot\" : false,\n",
      "    \"lucene_version\" : \"9.2.0\",\n",
      "    \"minimum_wire_compatibility_version\" : \"7.17.0\",\n",
      "    \"minimum_index_compatibility_version\" : \"7.0.0\"\n",
      "  },\n",
      "  \"tagline\" : \"You Know, for Search\"\n",
      "}\n"
     ]
    }
   ],
   "source": [
    "!curl http://localhost:9200/"
   ]
  },
  {
   "cell_type": "code",
   "execution_count": 2,
   "metadata": {},
   "outputs": [],
   "source": [
    "import json\n",
    "\n",
    "from elasticsearch import Elasticsearch, helpers\n",
    "from collections import deque"
   ]
  },
  {
   "cell_type": "code",
   "execution_count": 3,
   "metadata": {},
   "outputs": [],
   "source": [
    "def data_gen(): \n",
    "    with open('data_hub/data.json', 'r') as f:\n",
    "        documents = json.load(f)  \n",
    "           \n",
    "    for doc in documents:\n",
    "        json_data = {}\n",
    "        json_data['article_title'] = doc['article_title']\n",
    "        json_data['section_title'] = doc['section_title']\n",
    "        json_data['main_section'] = doc['main_section']\n",
    "        json_data['section_number'] = doc['section_number']\n",
    "        json_data['page_id'] = doc['page_id']\n",
    "        json_data['text'] = doc['text']\n",
    "        json_data['source_url'] = doc['source_url']\n",
    "        json_data['tags'] = doc['tags']\n",
    "        yield json_data "
   ]
  },
  {
   "cell_type": "code",
   "execution_count": 4,
   "metadata": {},
   "outputs": [
    {
     "data": {
      "text/plain": [
       "ObjectApiResponse({'_shards': {'total': 4, 'successful': 2, 'failed': 0}})"
      ]
     },
     "execution_count": 4,
     "metadata": {},
     "output_type": "execute_result"
    }
   ],
   "source": [
    "client = Elasticsearch(\"http://localhost:9200\")\n",
    "\n",
    "# Bulk load data into Elasticsearch\n",
    "client.indices.create(index='disease_docs')\n",
    "deque(helpers.parallel_bulk(client, data_gen(), index='disease_docs'), maxlen=0)\n",
    "client.indices.refresh()"
   ]
  },
  {
   "cell_type": "code",
   "execution_count": 10,
   "metadata": {},
   "outputs": [
    {
     "name": "stderr",
     "output_type": "stream",
     "text": [
      "/tmp/ipykernel_78147/2664752975.py:4: DeprecationWarning: The 'body' parameter is deprecated and will be removed in a future version. Instead use individual parameters.\n",
      "  hits = client.search(index='disease_docs', body=query)\n"
     ]
    },
    {
     "data": {
      "text/plain": [
       "{'total': {'value': 3, 'relation': 'eq'},\n",
       " 'max_score': 6.973024,\n",
       " 'hits': [{'_index': 'disease_docs',\n",
       "   '_id': 'nFUnx4EBf2mbjDV_iX-w',\n",
       "   '_score': 6.973024,\n",
       "   '_ignored': ['text.keyword'],\n",
       "   '_source': {'article_title': 'Pandemic',\n",
       "    'section_title': 'Summary',\n",
       "    'main_section': 'Summary',\n",
       "    'section_number': 0,\n",
       "    'page_id': 24255,\n",
       "    'text': 'A pandemic (from Greek πᾶν, pan, \"all\" and δῆμος, demos, \"people\" the \\'crowd\\') is an epidemic of an infectious disease that has spread across a large region, for instance multiple continents or worldwide, affecting a substantial number of people. A widespread endemic disease with a stable number of infected people is not a pandemic. Widespread endemic diseases with a stable number of infected people such as recurrences of seasonal influenza are generally excluded as they occur simultaneously in large regions of the globe rather than being spread worldwide.\\nThroughout human history, there have been a number of pandemics of diseases such as smallpox and tuberculosis. The most fatal pandemic in recorded history was the Black Death (also known as The Plague), which killed an estimated 75–200 million people in the 14th century. The term was not used yet but was for later pandemics including the 1918 influenza pandemic (Spanish flu). Current pandemics include COVID-19 (SARS-CoV-2) and HIV/AIDS.',\n",
       "    'source_url': 'https://en.wikipedia.org/wiki/Pandemic',\n",
       "    'tags': 'Pandemic,Summary'}},\n",
       "  {'_index': 'disease_docs',\n",
       "   '_id': 'tVUnx4EBf2mbjDV_iX-z',\n",
       "   '_score': 6.115222,\n",
       "   '_ignored': ['text.keyword'],\n",
       "   '_source': {'article_title': 'Pandemic',\n",
       "    'section_title': 'Economic consequences',\n",
       "    'main_section': 'Economic consequences',\n",
       "    'section_number': 33,\n",
       "    'page_id': 24255,\n",
       "    'text': 'In 2016, the commission on a Global Health Risk Framework for the Future estimated that pandemic disease events would cost the global economy over $6 trillion in the 21st century—over $60 billion per year. The same report recommended spending $4.5 billion annually on global prevention and response capabilities to reduce the threat posed by pandemic events, a figure that the World Bank Group raised to $13 billion in a 2019 report. It has been suggested that such costs be paid from a tax on aviation rather than from, e.g., income taxes, given the crucial role of air traffic in transforming local epidemics into pandemics (being the only factor considered in state-of-the-art models of long-range disease transmission ).\\nThe 2019-2020 COVID-19 pandemic is expected to have a profound negative effect on the global economy, potentially for years to come, with substantial drops in GDP accompanied by increases in unemployment noted around the world. The slowdown of economic activity during the COVID-19 pandemic had a profound effect on emissions of pollutants and greenhouse gases. The reduction of air pollution, and economic activity associated with it during a pandemic was first documented by Alexander F. More for the Black Death plague pandemic, showing the lowest pollution levels in the last 2000 years occurring during that pandemic, due to its 40 to 60% death rate through out Eurasia.',\n",
       "    'source_url': 'https://en.wikipedia.org/wiki/Pandemic',\n",
       "    'tags': 'Pandemic,Economic consequences,Concerning diseases'}},\n",
       "  {'_index': 'disease_docs',\n",
       "   '_id': 'pFUnx4EBf2mbjDV_iX-y',\n",
       "   '_score': 2.1492672,\n",
       "   '_ignored': ['text.keyword'],\n",
       "   '_source': {'article_title': 'Pandemic',\n",
       "    'section_title': 'Notable outbreaks',\n",
       "    'main_section': 'Notable outbreaks',\n",
       "    'section_number': 11,\n",
       "    'page_id': 24255,\n",
       "    'text': 'In human history, it is generally zoonoses such as influenza and tuberculosis which constitute most of the widespread outbreaks, resulting from the domestication of animals. There have been a number of particularly significant epidemics that deserve mention above the \"mere\" destruction of cities:\\n\\nPlague of Athens (430 to 426 BC): During the Peloponnesian War, typhoid fever killed a quarter of the Athenian troops and a quarter of the population. This disease fatally weakened the dominance of Athens, but the sheer virulence of the disease prevented its wider spread; i.e. it killed off its hosts at a rate faster than they could spread it. The exact cause of the plague was unknown for many years. In January 2006, researchers from the University of Athens analyzed teeth recovered from a mass grave underneath the city and confirmed the presence of bacteria responsible for typhoid.\\nAntonine Plague (165 to 180 AD): Possibly measles or smallpox brought to the Italian peninsula by soldiers returning from the Near East, it killed a quarter of those infected, up to five million in total.\\nPlague of Cyprian (251–266 AD): A second outbreak of what may have been the same disease as the Antonine Plague killed (it was said) 5,000 people a day in Rome.\\nPlague of Justinian (541 to 750 AD): The first recorded outbreak of bubonic plague started in Egypt and reached Constantinople the following spring, killing (according to the Byzantine chronicler Procopius) 10,000 a day at its height, and perhaps 40% of the city\\'s inhabitants. The plague went on to eliminate a quarter to half the human population of the known world. It caused Europe\\'s population to drop by around 50% between 550 AD and 700 AD.\\nBlack Death (1331 to 1353): The total number of deaths worldwide is estimated at 75 to 200 million. Eight hundred years after the last outbreak, the plague returned to Europe. Starting in Asia, the disease reached the Mediterranean and western Europe in 1348 (possibly from Italian merchants fleeing fighting in Crimea), and killed an estimated 20 to 30 million Europeans in six years; a third of the total population, and up to a half in the worst-affected urban areas. It was the first of a cycle of European plague epidemics that continued until the 18th century. There were more than 100 plague epidemics in Europe during this period. The disease recurred in England every two to five years from 1361 to 1480. By the 1370s, England\\'s population was reduced by 50%. The Great Plague of London of 1665–66 was the last major outbreak of the plague in England and killed approximately 100,000 people, 20% of London\\'s population.\\nThird plague pandemic (1855): Starting in China, it spread into India, where 10 million people died. During this pandemic, the United States saw its first outbreak: the San Francisco plague of 1900–1904. Today, sporadic cases of plague still occur in the western United States.\\nThe 1918-1920 Spanish flu infected half a billion people—around the world, including on remote Pacific islands and in the Arctic—killing 20 to 100 million. Most influenza outbreaks disproportionately kill the very young and the very old, but the 1918 pandemic had an unusually high mortality rate for young adults. It killed more people in 25 weeks than AIDS did in its first 25 years. Mass troop movements and close quarters during World War I caused it to spread and mutate faster, and the susceptibility of soldiers to the flu may have been increased by stress, malnourishment and chemical attacks. Improved transportation systems made it easier for soldiers, sailors and civilian travelers to spread the disease.Encounters between European explorers and populations in the rest of the world often introduced epidemics of extraordinary virulence. Disease killed part of the native population of the Canary Islands in the 16th century (Guanches). Half the native population of Hispaniola in 1518 was killed by smallpox. Smallpox also ravaged Mexico in the 1520s, killing 150,000 in Tenochtitlán alone, including the emperor, and in Peru in the 1530s, aiding the European conquerors. Measles killed a further two million Mexican natives in the 17th century. In 1618–1619, smallpox wiped out 90% of the Massachusetts Bay Native Americans. During the 1770s, smallpox killed at least 30% of the Pacific Northwest Native Americans. Smallpox epidemics in 1780–1782 and 1837–1838 brought devastation and drastic depopulation among the Plains Indians. Some believe the death of up to 95% of the Native American population of the New World was caused by Europeans introducing Old World diseases such as smallpox, measles and influenza. Over the centuries, Europeans had developed high degrees of herd immunity to these diseases, while the indigenous peoples had no such immunity.Smallpox devastated the native population of Australia, killing around 50% of Indigenous Australians in the early years of British colonisation. It also killed many New Zealand Māori. In 1848–49, as many as 40,000 out of 150,000 Hawaiians are estimated to have died of measles, whooping cough and influenza. Introduced diseases, notably smallpox, nearly wiped out the native population of Easter Island. Measles killed more than 40,000 Fijians, approximately one-third of the population, in 1875, and in the early 19th century devastated the Andamanese population. The Ainu population decreased drastically in the 19th century, due in large part\\nto infectious diseases brought by Japanese settlers pouring into Hokkaido.Researchers concluded that syphilis was carried from the New World to Europe after Columbus\\'s voyages. The findings suggested Europeans could have carried the nonvenereal tropical bacteria home, where the organisms may have mutated into a more deadly form in the different conditions of Europe. The disease was more frequently fatal than it is today. Syphilis was a major killer in Europe during the Renaissance. Between 1602 and 1796, the Dutch East India Company sent almost a million Europeans to work in Asia. Ultimately, fewer than a third made their way back to Europe. The majority died of diseases. Disease killed more British soldiers in India and South Africa than war.As early as 1803, the Spanish Crown organized a mission (the Balmis expedition) to transport the smallpox vaccine to the Spanish colonies, and establish mass vaccination programs there. By 1832, the federal government of the United States established a smallpox vaccination program for Native Americans. From the beginning of the 20th century onwards, the elimination or control of disease in tropical countries became a driving force for all colonial powers. The sleeping sickness epidemic in Africa was arrested due to mobile teams systematically screening millions of people at risk. In the 20th century, the world saw the biggest increase in its population in human history due to a drop in the mortality rate in many countries as a result of medical advances. The world population has grown from 1.6 billion in 1900 to an estimated 6.8 billion in 2011.Dengue Fever: Dengue is spread by several species of female mosquitoes of the Aedes type, principally A. aegypti. The virus has five types; infection with one type usually gives lifelong immunity to that type, but only short-term immunity to the others. Subsequent infection with a different type increases the risk of severe complications. A number of tests are available to confirm the diagnosis including detecting antibodies to the virus or its RNA.',\n",
       "    'source_url': 'https://en.wikipedia.org/wiki/Pandemic',\n",
       "    'tags': 'Pandemic,Notable outbreaks,Major outbreaks in countries'}}]}"
      ]
     },
     "execution_count": 10,
     "metadata": {},
     "output_type": "execute_result"
    }
   ],
   "source": [
    "# Search documents in Elasticsearch\n",
    "query = {'query':{'match_phrase':{'text':'Black Death'}}}\n",
    "\n",
    "hits = client.search(index='disease_docs', body=query) \n",
    "hits['hits']"
   ]
  },
  {
   "cell_type": "code",
   "execution_count": 9,
   "metadata": {},
   "outputs": [
    {
     "data": {
      "text/plain": [
       "ListApiResponse([{'epoch': '1656903820', 'timestamp': '03:03:40', 'count': '393'}])"
      ]
     },
     "execution_count": 9,
     "metadata": {},
     "output_type": "execute_result"
    }
   ],
   "source": [
    "client.cat.count(index='_all', format='json')"
   ]
  }
 ],
 "metadata": {
  "interpreter": {
   "hash": "92b3875b50552a19f5c8b904a9bd9455a012f7f4a6644b61f5845177f2c2dbee"
  },
  "kernelspec": {
   "display_name": "Python 3.8.10 ('semantic_searchenv': venv)",
   "language": "python",
   "name": "python3"
  },
  "language_info": {
   "codemirror_mode": {
    "name": "ipython",
    "version": 3
   },
   "file_extension": ".py",
   "mimetype": "text/x-python",
   "name": "python",
   "nbconvert_exporter": "python",
   "pygments_lexer": "ipython3",
   "version": "3.8.10"
  },
  "orig_nbformat": 4
 },
 "nbformat": 4,
 "nbformat_minor": 2
}
